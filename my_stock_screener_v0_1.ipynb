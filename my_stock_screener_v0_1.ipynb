{
  "nbformat": 4,
  "nbformat_minor": 0,
  "metadata": {
    "colab": {
      "provenance": [],
      "authorship_tag": "ABX9TyOaqCN6EVQt72ECtTg/2pPW",
      "include_colab_link": true
    },
    "kernelspec": {
      "name": "python3",
      "display_name": "Python 3"
    },
    "language_info": {
      "name": "python"
    }
  },
  "cells": [
    {
      "cell_type": "markdown",
      "metadata": {
        "id": "view-in-github",
        "colab_type": "text"
      },
      "source": [
        "<a href=\"https://colab.research.google.com/github/SimplifyHub19/ACED/blob/main/my_stock_screener_v0_1.ipynb\" target=\"_parent\"><img src=\"https://colab.research.google.com/assets/colab-badge.svg\" alt=\"Open In Colab\"/></a>"
      ]
    },
    {
      "cell_type": "code",
      "execution_count": 2,
      "metadata": {
        "colab": {
          "base_uri": "https://localhost:8080/"
        },
        "id": "hw6u7VIhJ70Z",
        "outputId": "5a1aa5e9-f916-43f6-ba0a-5822b05576e3"
      },
      "outputs": [
        {
          "output_type": "stream",
          "name": "stdout",
          "text": [
            "Processing 5347.KL...\n",
            "Processing 3182.KL...\n",
            "Processing 1155.KL...\n",
            "Selected stocks: []\n"
          ]
        }
      ],
      "source": [
        "import yfinance as yf\n",
        "import pandas as pd\n",
        "import requests\n",
        "from requests.adapters import HTTPAdapter\n",
        "from urllib3.util.retry import Retry\n",
        "\n",
        "def create_session():\n",
        "    \"\"\"Create a session with retries for handling connection issues.\"\"\"\n",
        "    session = requests.Session()\n",
        "    retries = Retry(total=5, backoff_factor=0.3, status_forcelist=[500, 502, 503, 504])\n",
        "    session.mount(\"https://\", HTTPAdapter(max_retries=retries))\n",
        "    session.headers.update({'User-Agent': 'Mozilla/5.0'})\n",
        "    return session\n",
        "\n",
        "def fetch_stock_data(ticker, session):\n",
        "    \"\"\"Fetch historical stock data from Yahoo Finance.\"\"\"\n",
        "    try:\n",
        "        stock = yf.Ticker(ticker, session=session)\n",
        "        hist = stock.history(period=\"6mo\")\n",
        "        return stock, hist\n",
        "    except Exception as e:\n",
        "        print(f\"Error fetching data for {ticker}: {e}\")\n",
        "        return None, None\n",
        "\n",
        "def fundamental_filter(stock):\n",
        "    \"\"\"Apply fundamental screening criteria.\"\"\"\n",
        "    try:\n",
        "        info = getattr(stock, 'info', None)\n",
        "        if not info or not isinstance(info, dict):\n",
        "            print(\"Error: No fundamental data available.\")\n",
        "            return False\n",
        "\n",
        "        pe_ratio = info.get(\"trailingPE\", None)\n",
        "        pb_ratio = info.get(\"priceToBook\", None)\n",
        "        roe = info.get(\"returnOnEquity\", None)\n",
        "        market_cap = info.get(\"marketCap\", None)\n",
        "\n",
        "        if pe_ratio and pe_ratio < 20 and pb_ratio and pb_ratio < 3 and roe and roe > 0.1:\n",
        "            return True  # Stock passes fundamental criteria\n",
        "    except Exception as e:\n",
        "        print(f\"Error processing fundamental data: {e}\")\n",
        "    return False\n",
        "\n",
        "def technical_filter(hist):\n",
        "    \"\"\"Apply technical screening criteria.\"\"\"\n",
        "    if hist is None or hist.empty:\n",
        "        print(\"Skipping technical filter due to missing data.\")\n",
        "        return False\n",
        "    try:\n",
        "        hist[\"50_MA\"] = hist[\"Close\"].rolling(window=50).mean()\n",
        "        hist[\"200_MA\"] = hist[\"Close\"].rolling(window=200).mean()\n",
        "        rsi_period = 14\n",
        "        delta = hist[\"Close\"].diff()\n",
        "        gain = (delta.where(delta > 0, 0)).rolling(window=rsi_period).mean()\n",
        "        loss = (-delta.where(delta < 0, 0)).rolling(window=rsi_period).mean()\n",
        "        rs = gain / loss\n",
        "        hist[\"RSI\"] = 100 - (100 / (1 + rs))\n",
        "\n",
        "        latest_price = hist.iloc[-1]\n",
        "        if latest_price[\"Close\"] > latest_price[\"50_MA\"] > latest_price[\"200_MA\"] and latest_price[\"RSI\"] < 70:\n",
        "            return True  # Stock passes technical criteria\n",
        "    except Exception as e:\n",
        "        print(f\"Error processing technical data: {e}\")\n",
        "    return False\n",
        "\n",
        "def screen_stocks(tickers):\n",
        "    \"\"\"Screen multiple stocks based on fundamental and technical filters.\"\"\"\n",
        "    selected_stocks = []\n",
        "    session = create_session()\n",
        "    for ticker in tickers:\n",
        "        print(f\"Processing {ticker}...\")\n",
        "        stock, hist = fetch_stock_data(ticker, session)\n",
        "        if stock and hist is not None and fundamental_filter(stock) and technical_filter(hist):\n",
        "            selected_stocks.append(ticker)\n",
        "    return selected_stocks\n",
        "\n",
        "# Example: List of Malaysian stock tickers (replace with real tickers)\n",
        "malaysia_tickers = [\"5347.KL\", \"3182.KL\", \"1155.KL\"]  # Sample tickers\n",
        "\n",
        "filtered_stocks = screen_stocks(malaysia_tickers)\n",
        "print(\"Selected stocks:\", filtered_stocks)\n"
      ]
    }
  ]
}